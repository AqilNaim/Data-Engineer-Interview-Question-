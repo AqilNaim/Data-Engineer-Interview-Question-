{
 "cells": [
  {
   "cell_type": "markdown",
   "id": "88e68cd9",
   "metadata": {},
   "source": [
    "# Question 3\n",
    "Based on Question 2, implement all queries and the ingestion/extraction process of Appendix A in Python.\n",
    "You can attempt this question in your own development workspace and share GitHub repository or gist URL\n"
   ]
  },
  {
   "cell_type": "code",
   "execution_count": 1,
   "id": "302f1544",
   "metadata": {},
   "outputs": [],
   "source": [
    "import sqlite3\n",
    "\n",
    "# Connect to an SQLite database (create a new database if it doesn't exist)\n",
    "conn = sqlite3.connect('bookstore.db')\n",
    "cursor = conn.cursor()\n",
    "\n",
    "# Create Customers table\n",
    "cursor.execute('''\n",
    "    CREATE TABLE IF NOT EXISTS customers (\n",
    "        id INT,\n",
    "        name VARCHAR(255),\n",
    "        email VARCHAR(255),\n",
    "        tel VARCHAR(15),\n",
    "        created_at DATETIME,\n",
    "        updated_at DATETIME\n",
    "    )\n",
    "''')\n",
    "\n",
    "# Insert data into the Customers table\n",
    "customers_data = [\n",
    "    (1, 'Irfan Bakti', 'irfan88@example.com', '+60123456789', '2019-08-07 08:13:21', '2019-08-07 08:13:21'),\n",
    "    (2, 'Jack Smmith', 'jack.smmith@acme.io', '+60132456781', '2019-08-07 08:13:21', '2019-08-07 08:13:21'),\n",
    "    (3, 'Nazir', None, '+601185434012', '2019-08-07 08:13:21', '2019-08-07 08:13:21'),\n",
    "    (4, 'Faiz Ma', 'faiz.ma@jholow.cn', '+6019772002', '2019-08-07 08:13:21', '2019-08-07 08:13:21'),\n",
    "    (5, 'Isham Rais', 'isham@pmo.gov.my', '+60135482020', '2019-08-07 08:13:21', '2019-08-07 08:13:21'),\n",
    "    (6, 'Shanon Teoh', 'shahnon.teoh@st.com.sg', None, '2019-08-07 08:13:21', '2019-08-07 08:13:21')\n",
    "]\n",
    "\n",
    "\n",
    "# Create Invoices table\n",
    "cursor.execute('''\n",
    "    CREATE TABLE IF NOT EXISTS invoices (\n",
    "        id INT,\n",
    "        number INT,\n",
    "        sub_total DECIMAL(10, 2),\n",
    "        tax_total DECIMAL(10, 2),\n",
    "        total DECIMAL(10, 2),\n",
    "        customer_id INT,\n",
    "        created_at DATETIME,\n",
    "        updated_at DATETIME\n",
    "    )\n",
    "''')\n",
    "\n",
    "# Insert data into the Invoices table\n",
    "invoices_data = [\n",
    "    (1, 20190001, 30.00, 0.00, 30.00, 1, '2019-08-07 08:13:21', '2019-08-07 08:13:21'),\n",
    "    (2, 20190002, 150.00, 0.00, 150.00, 2, '2019-08-07 08:13:21', '2019-08-07 08:13:21'),\n",
    "    (3, 20190003, 30.00, 0.00, 30.00, 2, '2019-09-15 08:13:21', '2019-09-15 08:13:21'),\n",
    "    (4, 20190004, 55.00, 0.00, 55.00, 3, '2019-09-15 08:13:21', '2019-09-15 08:13:21'),\n",
    "    (5, 20190005, 450.00, 0.00, 0.00, 6, '2019-09-15 08:13:21', '2019-09-15 08:13:21')\n",
    "]\n",
    "\n",
    "\n",
    "# Create Invoice Lines table\n",
    "cursor.execute('''\n",
    "    CREATE TABLE IF NOT EXISTS invoice_lines (\n",
    "        id INT,\n",
    "        description VARCHAR(255),\n",
    "        unit_price DECIMAL(10, 2),\n",
    "        quantity INT,\n",
    "        sub_total DECIMAL(10, 2),\n",
    "        tax_total DECIMAL(10, 2),\n",
    "        total DECIMAL(10, 2),\n",
    "        tax_id INT,\n",
    "        sku_id INT,\n",
    "        invoice_id INT\n",
    "    )\n",
    "''')\n",
    "\n",
    "# Insert data into the Invoice Lines table\n",
    "invoice_lines_data = [\n",
    "    (1, 'Book #1', 30.00, 1, 30.00, 0.00, 30.00, None, 1, 2),\n",
    "    (2, 'Book #2', 25.00, 4, 100.00, 0.00, 100.00, None, 2, 2),\n",
    "    (3, 'Book #3', 50.00, 1, 50.00, 0.00, 50.00, None, 3, 2),\n",
    "    (4, 'Book #1', 30.00, 1, 30.00, 0.00, 30.00, None, 1, 3),\n",
    "    (5, 'Book #1', 30.00, 1, 30.00, 0.00, 30.00, None, 1, 4),\n",
    "    (6, 'Book #2', 25.00, 1, 25.00, 0.00, 25.00, None, 2, 4),\n",
    "    (7, 'Book #1', 30.00, 5, 150.00, 0.00, 150.00, None, 1, 5),\n",
    "    (8, 'Book #3', 50.00, 6, 300.00, 0.00, 300.00, None, 3, 5)\n",
    "]\n",
    "\n",
    "\n",
    "# Commit the changes and close the connection\n",
    "conn.commit()\n",
    "conn.close()\n"
   ]
  },
  {
   "cell_type": "code",
   "execution_count": 2,
   "id": "2699b265",
   "metadata": {},
   "outputs": [
    {
     "name": "stdout",
     "output_type": "stream",
     "text": [
      "Customer ID: 2, Name: Jack Smmith\n",
      "Customer ID: 6, Name: Shanon Teoh\n"
     ]
    }
   ],
   "source": [
    "import sqlite3\n",
    "\n",
    "# Connect to the SQLite database\n",
    "conn = sqlite3.connect('bookstore.db')\n",
    "\n",
    "# Execute the query\n",
    "query = '''\n",
    "    SELECT c.id, c.name\n",
    "    FROM Customers c\n",
    "    JOIN Invoices i ON c.id = i.customer_id\n",
    "    JOIN Invoice_Lines il ON i.id = il.invoice_id\n",
    "    GROUP BY c.id, c.name\n",
    "    HAVING SUM(il.quantity) > 5\n",
    "'''\n",
    "\n",
    "result = conn.execute(query)\n",
    "\n",
    "# Fetch and print the results\n",
    "for row in result:\n",
    "    print(f\"Customer ID: {row[0]}, Name: {row[1]}\")\n",
    "\n",
    "# Close the connection\n",
    "conn.close()\n"
   ]
  },
  {
   "cell_type": "code",
   "execution_count": 3,
   "id": "34e31832",
   "metadata": {},
   "outputs": [
    {
     "name": "stdout",
     "output_type": "stream",
     "text": [
      "Customer ID: 4, Name: Faiz Ma\n",
      "Customer ID: 5, Name: Isham Rais\n"
     ]
    }
   ],
   "source": [
    "import sqlite3\n",
    "\n",
    "# Connect to the SQLite database\n",
    "conn = sqlite3.connect('bookstore.db')\n",
    "\n",
    "# Execute the query\n",
    "query = '''\n",
    "    SELECT c.id, c.name\n",
    "    FROM Customers c\n",
    "    LEFT JOIN Invoices i ON c.id = i.customer_id\n",
    "    WHERE i.id IS NULL\n",
    "'''\n",
    "\n",
    "result = conn.execute(query)\n",
    "\n",
    "# Fetch and print the results\n",
    "for row in result:\n",
    "    print(f\"Customer ID: {row[0]}, Name: {row[1]}\")\n",
    "\n",
    "# Close the connection\n",
    "conn.close()\n"
   ]
  },
  {
   "cell_type": "code",
   "execution_count": 4,
   "id": "ab6b9e11",
   "metadata": {},
   "outputs": [
    {
     "name": "stdout",
     "output_type": "stream",
     "text": [
      "Customer Name: Jack Smmith, Book Description: Book #1\n",
      "Customer Name: Jack Smmith, Book Description: Book #2\n",
      "Customer Name: Jack Smmith, Book Description: Book #3\n",
      "Customer Name: Jack Smmith, Book Description: Book #1\n",
      "Customer Name: Nazir, Book Description: Book #1\n",
      "Customer Name: Nazir, Book Description: Book #2\n",
      "Customer Name: Shanon Teoh, Book Description: Book #1\n",
      "Customer Name: Shanon Teoh, Book Description: Book #3\n"
     ]
    }
   ],
   "source": [
    "import sqlite3\n",
    "\n",
    "# Connect to the SQLite database\n",
    "conn = sqlite3.connect('bookstore.db')\n",
    "\n",
    "# Execute the query\n",
    "query = '''\n",
    "    SELECT c.name AS customer_name, il.description AS book_description\n",
    "    FROM Customers c\n",
    "    JOIN Invoices i ON c.id = i.customer_id\n",
    "    JOIN Invoice_Lines il ON i.id = il.invoice_id\n",
    "'''\n",
    "\n",
    "result = conn.execute(query)\n",
    "\n",
    "# Fetch and print the results\n",
    "for row in result:\n",
    "    print(f\"Customer Name: {row[0]}, Book Description: {row[1]}\")\n",
    "\n",
    "# Close the connection\n",
    "conn.close()\n"
   ]
  },
  {
   "cell_type": "code",
   "execution_count": null,
   "id": "86b641ca",
   "metadata": {},
   "outputs": [],
   "source": []
  },
  {
   "cell_type": "code",
   "execution_count": null,
   "id": "630cf413",
   "metadata": {},
   "outputs": [],
   "source": []
  },
  {
   "cell_type": "code",
   "execution_count": null,
   "id": "35567b9b",
   "metadata": {},
   "outputs": [],
   "source": []
  }
 ],
 "metadata": {
  "kernelspec": {
   "display_name": "Python 3 (ipykernel)",
   "language": "python",
   "name": "python3"
  },
  "language_info": {
   "codemirror_mode": {
    "name": "ipython",
    "version": 3
   },
   "file_extension": ".py",
   "mimetype": "text/x-python",
   "name": "python",
   "nbconvert_exporter": "python",
   "pygments_lexer": "ipython3",
   "version": "3.10.9"
  }
 },
 "nbformat": 4,
 "nbformat_minor": 5
}
